{
 "cells": [
  {
   "cell_type": "code",
   "execution_count": 1,
   "metadata": {},
   "outputs": [],
   "source": [
    "import numpy as np\n",
    "import pandas as pd\n",
    "from scipy import stats\n",
    "import matplotlib.pyplot as plt"
   ]
  },
  {
   "cell_type": "markdown",
   "metadata": {},
   "source": [
    "#### Задача 1\n",
    "\n",
    "Дана матрица объект-признак X и значения целевой переменной y.\n",
    "\n",
    "1. Подберите два признака (из четырёх) так, чтобы уровень линейной зависимости целевой переменной от значений этих признаков был максимальным. Другими словами, модель линейной регрессии на этих признаках должна давать наилучший результат.\n",
    "2. Является ли значимым получившееся уравнение регрессии?"
   ]
  },
  {
   "cell_type": "code",
   "execution_count": 2,
   "metadata": {},
   "outputs": [
    {
     "name": "stdout",
     "output_type": "stream",
     "text": [
      "R2 = 0.5717210122042005, первый признак в колонке 2, второй - в колонке 4\n"
     ]
    },
    {
     "data": {
      "text/plain": [
       "array([[2.30868478, 2.69287214],\n",
       "       [1.30337355, 3.46363202],\n",
       "       [1.82463398, 1.86159445],\n",
       "       [2.67392052, 1.66746094],\n",
       "       [1.97367255, 1.69755173],\n",
       "       [0.77750764, 4.54410559],\n",
       "       [1.81206697, 1.51874636],\n",
       "       [2.26971361, 2.61081203],\n",
       "       [3.17563985, 5.10773362],\n",
       "       [2.87988651, 1.59635987]])"
      ]
     },
     "execution_count": 2,
     "metadata": {},
     "output_type": "execute_result"
    }
   ],
   "source": [
    "X = np.array([[ 1.22401313, 2.30868478, 3.03636353, 2.69287214],\n",
    "              [-0.18757272, 1.30337355, 5.12093014, 3.46363202],\n",
    "              [-0.81094525, 1.82463398, 5.79686488, 1.86159445],\n",
    "              [ 0.75129018, 2.67392052, 3.65529809, 1.66746094],\n",
    "              [ 0.00972362, 1.97367255, 2.50594319, 1.69755173],\n",
    "              [-0.62972637, 0.77750764, 2.84124027, 4.54410559],\n",
    "              [ 2.29536229, 1.81206697, 1.95026215, 1.51874636],\n",
    "              [ 0.0920418 , 2.26971361, 7.47708735, 2.61081203],\n",
    "              [ 2.39252799, 3.17563985, 3.61420599, 5.10773362],\n",
    "              [ 0.54983815, 2.87988651, 1.65752765, 1.59635987]])\n",
    "y = np.array([ 9.26193358, 9.700363 , 8.67214805, 8.74796974, 6.18689108,\n",
    "              7.53312713, 7.57643777, 12.44965478, 14.29010746, 6.68361218])\n",
    "\n",
    "\n",
    "def sum_of_squares(samples: np.ndarray) -> float:\n",
    "    return ((samples - samples.mean()) ** 2).sum()\n",
    "\n",
    "def R_2(X):\n",
    "    XTX = X.T.dot(X)\n",
    "    XTX_inv = np.linalg.inv(XTX)\n",
    "    b = XTX_inv.dot(X.T).dot(y)\n",
    "\n",
    "    y_pred = X.dot(b)\n",
    "    e = y - y_pred\n",
    "    R = 1 - sum_of_squares(e) / sum_of_squares(y)\n",
    "    return R\n",
    "\n",
    "a = [(0,1), (0,2), (0,3), (1, 2), (1,3), (2,3)]\n",
    "r2 = 0\n",
    "col1 = 0\n",
    "col2 = 0\n",
    "for item in a:\n",
    "    i, j = item[0], item[1]\n",
    "    df = np.array([[row[i], row[j]] for row in X ])\n",
    "    r2_item = R_2(df)\n",
    "    if r2_item > r2:\n",
    "        r2 = r2_item\n",
    "        col1 = i\n",
    "        col2 = j\n",
    "        \n",
    "X = np.array([[row[col1], row[col2]] for row in X ])\n",
    "print(f'R2 = {r2}, первый признак в колонке {col1 + 1}, второй - в колонке {col2 + 1}')\n",
    "X"
   ]
  },
  {
   "cell_type": "code",
   "execution_count": 3,
   "metadata": {},
   "outputs": [
    {
     "name": "stdout",
     "output_type": "stream",
     "text": [
      "F-test statistic = 4.672, Student's t statistic = 4.737.\n",
      "Cтатистика не попадает в критическую область, гипотеза о равенстве нулю коэффициента детерминации не отвергается.\n",
      "Получившееся уравнение регрессии не является стстистически значимым\n"
     ]
    }
   ],
   "source": [
    "n = X.shape[0]\n",
    "k1 = X.shape[1]\n",
    "k2 = n - k1 - 1\n",
    "alpha = 0.05\n",
    "\n",
    "F = (r2/k1) / ((1-r2)/k2)\n",
    "t = stats.f.ppf(1-alpha, k1, k2)\n",
    "print(f\"F-test statistic = {round(F, 3)}, Student's t statistic = {round(t, 3)}.\")\n",
    "if F < t:\n",
    "    print('Cтатистика не попадает в критическую область, гипотеза о равенстве нулю коэффициента детерминации не отвергается.')\n",
    "    print('Получившееся уравнение регрессии не является стстистически значимым')\n",
    "else:\n",
    "    print('Cтатистика попадает в критическую область, гипотеза о равенстве нулю коэффициента детерминации отвергается.')\n",
    "    print('Получившееся уравнение регрессии является стстистически значимым')"
   ]
  },
  {
   "cell_type": "markdown",
   "metadata": {},
   "source": [
    "#### Задача 2\n",
    "\n",
    "Для проведения A/B-тестирования сайта интернет-магазина были получены следующие данные: страница A была посещена 2509 раз, из них 77 закончились совершением покупки, страница B была посещена 1465 раз, 60 из них закончились совершением покупки. Является ли значимым отличие конверсии на страницах A и B?"
   ]
  },
  {
   "cell_type": "code",
   "execution_count": 4,
   "metadata": {},
   "outputs": [
    {
     "name": "stdout",
     "output_type": "stream",
     "text": [
      "Условию задачи соответствует распределение Пуассона с параметром lambda = 0.0307\n",
      "H0: lambla_a = lambla_b, H1: lambla_a != lambla_b. Двухсторонний тест\n",
      "Вероятность,что X меньше или равен 0.041 = 0.9698\n",
      "Для того, чтобы отвергнуть нулевую гипотезу, p-value должно быть меньше 0.025\n",
      "В нашем случае p-value = 0.0302,следователььно отличие конверсии на страницах A и B значимым не является.\n"
     ]
    }
   ],
   "source": [
    "n_a = 2509\n",
    "purch_a = 77\n",
    "\n",
    "n_b = 1465 \n",
    "purch_b = 60\n",
    "\n",
    "lambda_a = purch_a / n_a\n",
    "lambda_b = purch_b / n_b\n",
    "\n",
    "# H0 lambla_a = lambla_b, H1 lambla_a != lambla_b. Двухсторонний тест\n",
    "print(f'Условию задачи соответствует распределение Пуассона с параметром lambda = {round(lambda_a, 4)}')\n",
    "print('H0: lambla_a = lambla_b, H1: lambla_a != lambla_b. Двухсторонний тест')\n",
    "\n",
    "print(f'Вероятность,что X меньше или равен {round(lambda_b, 4)} = {round(stats.poisson.cdf(lambda_b, lambda_a),4)}')\n",
    "alpha = 0.05\n",
    "print(f'Для того, чтобы отвергнуть нулевую гипотезу, p-value должно быть меньше {alpha / 2}')\n",
    "print(f'В нашем случае p-value = {round(1 - stats.poisson.cdf(lambda_b, lambda_a), 4)},\\\n",
    "следователььно отличие конверсии на страницах A и B значимым не является.')"
   ]
  },
  {
   "cell_type": "markdown",
   "metadata": {},
   "source": [
    "#### Задача 3\n",
    "\n",
    "Квартет Энскомба — популярный в области анализа данных пример наборов данных, у которых практически совпадают все статистические свойства (средние, дисперсии, коэффициенты корреляции, регрессионные линии), однако, существенно отличаются графики. Данный пример призван показать, насколько важна визуализация данных. Датасет представляет собой 4 пары выборок.\n",
    "\n",
    "По каждой паре выборок посчитайте:\n",
    "\n",
    "* выборочное среднее и дисперсию каждой выборки,\n",
    "* коэффициент корреляции Пирсона и прямую линейной регрессии.\n",
    "\n",
    "Убедившись в том, что они не практически не отличаются, постройте scatter plot по каждой паре выборок."
   ]
  },
  {
   "cell_type": "code",
   "execution_count": 5,
   "metadata": {},
   "outputs": [
    {
     "data": {
      "text/plain": [
       "{'x1_y1': (9.0, 7.5, 0.8164, -7170.9, 797.6),\n",
       " 'x2_y2': (9.0, 7.5, 0.8162, -7170.8, 797.59),\n",
       " 'x3_y3': (9.0, 7.5, 0.8163, -7169.7, 797.47),\n",
       " 'x4_y4': (9.0, 7.5, 0.8165, -7170.7, 797.58)}"
      ]
     },
     "execution_count": 5,
     "metadata": {},
     "output_type": "execute_result"
    }
   ],
   "source": [
    "data = {\"x1\": [10.0, 8.0, 13.0, 9.0, 11.0, 14.0, 6.0, 4.0, 12.0, 7.0, 5.0],\n",
    "        \"y1\": [8.04, 6.95, 7.58, 8.81, 8.33, 9.96, 7.24, 4.26, 10.84, 4.82, 5.68],\n",
    "        \"x2\": [10.0, 8.0, 13.0, 9.0, 11.0, 14.0, 6.0, 4.0, 12.0, 7.0, 5.0],\n",
    "        \"y2\": [9.14, 8.14, 8.74, 8.77, 9.26, 8.1, 6.13, 3.1, 9.13, 7.26, 4.74],\n",
    "        \"x3\": [10.0, 8.0, 13.0, 9.0, 11.0, 14.0, 6.0, 4.0, 12.0, 7.0, 5.0],\n",
    "        \"y3\": [7.46, 6.77, 12.74, 7.11, 7.81, 8.84, 6.08, 5.39, 8.15, 6.42, 5.73],\n",
    "        \"x4\": [8.0, 8.0, 8.0, 8.0, 8.0, 8.0, 8.0, 19.0, 8.0, 8.0, 8.0],\n",
    "        \"y4\": [6.58, 5.76, 7.71, 8.84, 8.47, 7.04, 5.25, 12.5, 5.56, 7.91, 6.89]}\n",
    "\n",
    "df = {}\n",
    "n = 0\n",
    "for key in data:\n",
    "    if n % 2 == 0:\n",
    "        mean_x = np.round(np.array(data[key]).mean(), 2)\n",
    "        var_x = np.round(np.array(data[key]).var(),2)\n",
    "        array_x = np.array(data[key])\n",
    "        key_x = key        \n",
    "        n += 1            \n",
    "    else:\n",
    "        mean_y = np.round(np.array(data[key]).mean(), 2)\n",
    "        var_y = np.round(np.array(data[key]).var(),2)\n",
    "        array_y = np.array(data[key])\n",
    "        corr_xy = np.round(np.corrcoef(array_x,array_y), 4)[0][1]\n",
    "        b1 = np.round(array_x.T.dot(array_y), 2)\n",
    "        b0 = np.round(mean_y - b1 * mean_x, 1)\n",
    "        new_key = (key_x + '_' + key)\n",
    "        df[new_key] = mean_x, mean_y, corr_xy, b0, b1        \n",
    "        n += 1\n",
    "df"
   ]
  },
  {
   "cell_type": "code",
   "execution_count": 6,
   "metadata": {},
   "outputs": [
    {
     "data": {
      "image/png": "[encoded data removed]",
      "text/plain": [
       "<Figure size 432x288 with 1 Axes>"
      ]
     },
     "metadata": {
      "needs_background": "light"
     },
     "output_type": "display_data"
    }
   ],
   "source": [
    "plt.scatter(data['x1'], data['y1'])\n",
    "plt.scatter(data['x2'], data['y2'])\n",
    "plt.show()"
   ]
  },
  {
   "cell_type": "code",
   "execution_count": 7,
   "metadata": {},
   "outputs": [
    {
     "data": {
      "image/png": "[encoded data removed]",
      "text/plain": [
       "<Figure size 432x288 with 1 Axes>"
      ]
     },
     "metadata": {
      "needs_background": "light"
     },
     "output_type": "display_data"
    }
   ],
   "source": [
    "plt.scatter(data['x3'], data['y3'])\n",
    "plt.scatter(data['x4'], data['y4'])\n",
    "plt.show()"
   ]
  }
 ],
 "metadata": {
  "kernelspec": {
   "display_name": "Python 3",
   "language": "python",
   "name": "python3"
  },
  "language_info": {
   "codemirror_mode": {
    "name": "ipython",
    "version": 3
   },
   "file_extension": ".py",
   "mimetype": "text/x-python",
   "name": "python",
   "nbconvert_exporter": "python",
   "pygments_lexer": "ipython3",
   "version": "3.8.2"
  }
 },
 "nbformat": 4,
 "nbformat_minor": 4
}
