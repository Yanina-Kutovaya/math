{
 "cells": [
  {
   "cell_type": "code",
   "execution_count": 1,
   "metadata": {},
   "outputs": [],
   "source": [
    "import numpy as np\n",
    "import scipy.linalg\n",
    "#from scipy.linalg import cho_factor, cho_solve\n",
    "from pprint import pprint"
   ]
  },
  {
   "cell_type": "markdown",
   "metadata": {},
   "source": [
    "2*. Найти  L -матрицу  LU -разложения для матрицы коэффициентов:"
   ]
  },
  {
   "cell_type": "code",
   "execution_count": 2,
   "metadata": {},
   "outputs": [
    {
     "name": "stdout",
     "output_type": "stream",
     "text": [
      "array([[1.        , 0.        , 0.        ],\n",
      "       [0.66666667, 1.        , 0.        ],\n",
      "       [0.33333333, 0.8       , 1.        ]])\n"
     ]
    }
   ],
   "source": [
    "A = np.array([[1, 2, 4], [2, 9, 12], [3, 26, 30]])\n",
    "P, L, U = scipy.linalg.lu(A)\n",
    "pprint(L)"
   ]
  },
  {
   "cell_type": "markdown",
   "metadata": {},
   "source": [
    "3*. Решить систему линейных уравнений методом  LU -разложения"
   ]
  },
  {
   "cell_type": "code",
   "execution_count": 3,
   "metadata": {},
   "outputs": [
    {
     "name": "stdout",
     "output_type": "stream",
     "text": [
      "Проверка: AX - B =  [0. 0. 0.]\n",
      "Ответ:  [ 1. -1.  0.]\n"
     ]
    }
   ],
   "source": [
    "A = np.array([[2, 1, 3], [1, 7, 5], [3, 8, 4]])\n",
    "B = np.array([1, -6, -5])\n",
    "P, L, U = scipy.linalg.lu(A)\n",
    "\n",
    "P1 = np.linalg.inv(P)\n",
    "B1 = np.dot(P1, B)\n",
    "Y = np.linalg.solve(L, B1)\n",
    "X = np.linalg.solve(U, Y)\n",
    "print('Проверка: AX - B = ', np.dot(A, X) - B)\n",
    "print('Ответ: ', X)"
   ]
  },
  {
   "cell_type": "markdown",
   "metadata": {},
   "source": [
    "4*. Решить систему линейных уравнений методом Холецкого"
   ]
  },
  {
   "cell_type": "code",
   "execution_count": 4,
   "metadata": {},
   "outputs": [
    {
     "name": "stdout",
     "output_type": "stream",
     "text": [
      "array([[ 81, -45,  45],\n",
      "       [-45,  50, -15],\n",
      "       [ 45, -15,  38]])\n",
      "матрица A невырождена и симметрична\n",
      "Все собственные значения матрицы A положительны\n",
      "\n",
      "\n",
      "Проверка: AX - B =  [ 0. -0.  0.]\n",
      "Ответ:  [ 39.35802469  12.15555556 -46.88888889]\n"
     ]
    }
   ],
   "source": [
    "A = np.array([[81, -45, 45], [-45, 50, -15], [45, -15, 38]])\n",
    "B = np.array([531, -460, -193])\n",
    "P, L, U = scipy.linalg.lu(A)\n",
    "\n",
    "pprint(A)\n",
    "if scipy.linalg.det(A) > 0:\n",
    "    print('матрица A невырождена и симметрична')\n",
    "    \n",
    "if (scipy.linalg.eigvals(A) > 0).sum() == len(scipy.linalg.eigvals(A)):\n",
    "    print('Все собственные значения матрицы A положительны')\n",
    "\n",
    "c, low = scipy.linalg.cho_factor(A)\n",
    "X = scipy.linalg.cho_solve((c, low), B)\n",
    "print('\\n')\n",
    "print('Проверка: AX - B = ', (np.dot(A, X) - B).round(2))\n",
    "print('Ответ: ', X)"
   ]
  }
 ],
 "metadata": {
  "kernelspec": {
   "display_name": "Python 3",
   "language": "python",
   "name": "python3"
  },
  "language_info": {
   "codemirror_mode": {
    "name": "ipython",
    "version": 3
   },
   "file_extension": ".py",
   "mimetype": "text/x-python",
   "name": "python",
   "nbconvert_exporter": "python",
   "pygments_lexer": "ipython3",
   "version": "3.8.2"
  }
 },
 "nbformat": 4,
 "nbformat_minor": 4
}
