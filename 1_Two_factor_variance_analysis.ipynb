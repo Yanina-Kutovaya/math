{
 "cells": [
  {
   "cell_type": "code",
   "execution_count": 1,
   "metadata": {},
   "outputs": [],
   "source": [
    "import pandas as pd\n",
    "import numpy as np\n",
    "from scipy import stats"
   ]
  },
  {
   "cell_type": "markdown",
   "metadata": {},
   "source": [
    "#### Задача 1\n",
    "\n",
    "Объясняемая переменная y зависит от двух категориальных факторов A и B, причём фактор A имеет 3 уровня, а фактор B - 4 уровня. Результаты наблюдений приведены в таблице.\n",
    "\n",
    "С помощью двухфакторного дисперсионного анализа проверьте влияние каждого из факторов на переменную y."
   ]
  },
  {
   "cell_type": "code",
   "execution_count": 2,
   "metadata": {},
   "outputs": [
    {
     "name": "stdout",
     "output_type": "stream",
     "text": [
      "Критическая область для фактора А имеет вид (4.26, oo). \n",
      "Значение статистики F для фактора А = 2.77 - не попало в критическую область\n",
      "Критическая область для фактора B имеет вид (4.07, oo). \n",
      "Значение статистики F для фактора B = 1.0 - не попало в критическую область\n",
      "Ни влияние фактора А, ни влияние фактора B на переменную y не является статистически значимым.\n"
     ]
    }
   ],
   "source": [
    "Y = [[2.68, 3.29, 2.88, 4.45],\n",
    "     [4.12, 4.96, 5.09, 5.22],\n",
    "     [5.52, 4.50, 5.42, 5.29]]\n",
    "\n",
    "Y = np.array(Y)\n",
    "alpha = 0.05\n",
    "\n",
    "m = Y.shape[0]\n",
    "k = Y.shape[1]\n",
    "n = m * k\n",
    "\n",
    "SS_a = k * ((Y.mean(axis=0) - Y.mean())**2).sum()\n",
    "SS_b = m * ((Y.mean(axis=1) - Y.mean())**2).sum()\n",
    "SS_w = ((Y - Y.mean(axis=0) - Y.mean(axis=1).reshape(3,1) + Y.mean())**2).sum()\n",
    "\n",
    "sigma2_a = SS_a / (m - 1)\n",
    "sigma2_b = SS_b / (k - 1)\n",
    "sigma2_w = SS_w / ((k - 1) * (m -1))\n",
    "\n",
    "F_a = sigma2_a / sigma2_w\n",
    "k1_a = m - 1\n",
    "k2_a = n - m\n",
    "t_a = stats.f.ppf(1 - alpha, k1_a, k2_a)\n",
    "\n",
    "F_b = sigma2_b / sigma2_b\n",
    "k1_b = k - 1\n",
    "k2_b = n - k\n",
    "t_b = stats.f.ppf(1 - alpha, k1_b, k2_b)\n",
    "\n",
    "print(f'Критическая область для фактора А имеет вид ({round(t_a, 2)}, oo). \\n\\\n",
    "Значение статистики F для фактора А = {round(F_a,2)} - не попало в критическую область')\n",
    "print(f'Критическая область для фактора B имеет вид ({round(t_b, 2)}, oo). \\n\\\n",
    "Значение статистики F для фактора B = {round(F_b,2)} - не попало в критическую область')\n",
    "print('Ни влияние фактора А, ни влияние фактора B на переменную y не является статистически значимым.')"
   ]
  }
 ],
 "metadata": {
  "kernelspec": {
   "display_name": "Python 3",
   "language": "python",
   "name": "python3"
  },
  "language_info": {
   "codemirror_mode": {
    "name": "ipython",
    "version": 3
   },
   "file_extension": ".py",
   "mimetype": "text/x-python",
   "name": "python",
   "nbconvert_exporter": "python",
   "pygments_lexer": "ipython3",
   "version": "3.8.2"
  }
 },
 "nbformat": 4,
 "nbformat_minor": 4
}
