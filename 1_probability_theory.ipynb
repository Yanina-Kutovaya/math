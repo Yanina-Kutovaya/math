{
 "cells": [
  {
   "cell_type": "code",
   "execution_count": 1,
   "metadata": {},
   "outputs": [],
   "source": [
    "from math import factorial, ceil"
   ]
  },
  {
   "cell_type": "markdown",
   "metadata": {},
   "source": [
    "#### Задача 1\n",
    "\n",
    "Из колоды в 52 карты вынимают случайным образом 4 карты. Найти число исходов, соответствующих тому, что был вытянут хотя бы один туз."
   ]
  },
  {
   "cell_type": "code",
   "execution_count": 2,
   "metadata": {},
   "outputs": [
    {
     "data": {
      "text/plain": [
       "4"
      ]
     },
     "execution_count": 2,
     "metadata": {},
     "output_type": "execute_result"
    }
   ],
   "source": [
    "# Если исходить из того, что карты в колоду не возвращали, нас не устраивает только 1 исход:\n ни одного туза:\n",
    "prob = 1-(1-4/52)*(1-4/51)*(1-4/50)*(1-4/49) \n",
    "\n",
    "# Число испытаний, соответствующих тому, что был вытянут хотя бы один туз:\n",
    "n_trial = ceil(1/prob)\n",
    "n_trial"
   ]
  },
  {
   "cell_type": "markdown",
   "metadata": {},
   "source": [
    "#### Задача 2\n",
    "\n",
    "Семь человек рассаживаются наудачу на скамейке. Какова вероятность того, что рядом будут сидеть: \n",
    "а) два определённых человека? "
   ]
  },
  {
   "cell_type": "code",
   "execution_count": 3,
   "metadata": {},
   "outputs": [
    {
     "data": {
      "text/plain": [
       "0.2857142857142857"
      ]
     },
     "execution_count": 3,
     "metadata": {},
     "output_type": "execute_result"
    }
   ],
   "source": [
    "# 7 человек можно рассадить 7! способами:\n",
    "all_permutations = factorial(7)\n",
    "\n",
    "# 2 места рядом для двух человек можно закрепить 7-1=6 способами,\n",
    "# 2 человека могут сидеть рядом 2! способами, остальные 5 человек рассядутся 5! способами.\n",
    "\n",
    "# Вариантов посадить двух человек рядом:\n",
    "two_neighbours_permutations = (7-1) * factorial(2) * factorial(5)\n",
    "\n",
    "# Вероятность того, что рядом будут сидеть два определённых человека:\n",
    "prob_2 = two_neighbours_permutations / all_permutations\n",
    "prob_2"
   ]
  },
  {
   "cell_type": "markdown",
   "metadata": {},
   "source": [
    "б) три определённых человека?"
   ]
  },
  {
   "cell_type": "code",
   "execution_count": 4,
   "metadata": {},
   "outputs": [
    {
     "data": {
      "text/plain": [
       "0.14285714285714285"
      ]
     },
     "execution_count": 4,
     "metadata": {},
     "output_type": "execute_result"
    }
   ],
   "source": [
    "# 3 места рядом для трех человек можно закрепить 7-2=5 способами,\n",
    "# 3 человека могут сидеть рядом 3! способами, остальные 4 человека рассядутся 4! способами.\n",
    "\n",
    "# Вариантов посадить 3 человек рядом:\n",
    "tree_neighbours_permutations = (7-2) * factorial(3) * factorial(4)\n",
    "\n",
    "# Вероятность того, что рядом будут сидеть три определённых человека:\n",
    "prob_3 = tree_neighbours_permutations / all_permutations\n",
    "prob_3"
   ]
  },
  {
   "cell_type": "markdown",
   "metadata": {},
   "source": [
    "#### Задача 3\n",
    "\n",
    "Из 60 вопросов, входящих в экзаменационные билеты, студент знает 50. Какова вероятность того, что среди трёх наугад выбранных вопросов студент знает: а) все? "
   ]
  },
  {
   "cell_type": "code",
   "execution_count": 5,
   "metadata": {},
   "outputs": [
    {
     "data": {
      "text/plain": [
       "0.5727644652250147"
      ]
     },
     "execution_count": 5,
     "metadata": {},
     "output_type": "execute_result"
    }
   ],
   "source": [
    "# Вероятность того, что среди трёх наугад выбранных вопросов студент знает все:\n",
    "50/60 * 49/59 * 48/58"
   ]
  },
  {
   "cell_type": "markdown",
   "metadata": {},
   "source": [
    "б) два?"
   ]
  },
  {
   "cell_type": "code",
   "execution_count": 6,
   "metadata": {},
   "outputs": [
    {
     "data": {
      "text/plain": [
       "0.35797779076563413"
      ]
     },
     "execution_count": 6,
     "metadata": {},
     "output_type": "execute_result"
    }
   ],
   "source": [
    "3*(50*49*10)/(60*59*58)"
   ]
  },
  {
   "cell_type": "markdown",
   "metadata": {},
   "source": [
    "#### Задача 4\n",
    "\n",
    "Бросается игральная кость. Пусть событие A - появление чётного числа, событие B - появление числа больше трёх. Являются ли эти события независимыми?"
   ]
  },
  {
   "cell_type": "code",
   "execution_count": 7,
   "metadata": {},
   "outputs": [],
   "source": [
    "# Cобытия не являются независимыми. \n",
    "# Веротность выпадения четного числа - 1/3, но если известно, что число больше трех, \n",
    "# вероятность того, что это четное число, бозрастает до 2/3\n",
    "# Также, если известно, что число четное, вероятность, что оно больше трех возрастает с 1/3 до 2/3."
   ]
  },
  {
   "cell_type": "markdown",
   "metadata": {},
   "source": [
    "#### Задача 5\n",
    "\n",
    "Допустим, имеется некоторая очень редкая болезнь (поражает 0.1% населения). Вы приходите к врачу, вам делают тест на эту болезнь, и тест оказывается положительным. Врач говорит вам, что этот тест верно выявляет 99% больных этой болезнью и всего лишь в 1% случаев даёт ложный положительный ответ.\n",
    "\n",
    "Вопрос: какова вероятность, что вы действительно больны ей?\n",
    "\n",
    "Подсказка: вновь используйте формулу Байеса с раскрытием знаменателя с помощью формулы полной вероятности."
   ]
  },
  {
   "cell_type": "code",
   "execution_count": 8,
   "metadata": {},
   "outputs": [
    {
     "data": {
      "text/plain": [
       "0.09016393442622944"
      ]
     },
     "execution_count": 8,
     "metadata": {},
     "output_type": "execute_result"
    }
   ],
   "source": [
    "# Вероятноть, что человек болен при положительном тесте:\n",
    "test_positive_ill = 0.99\n",
    "\n",
    "# Доля больных\n",
    "ill = 0.001\n",
    "\n",
    "# Верный положительный тест, взвешенный на долю больных людей\n",
    "true_ill = test_positive_ill * ill\n",
    "\n",
    "# Ложный положительный тест, взвешенный на долю здоровых людей\n",
    "false_ill = (1 - test_positive_ill) * (1 - ill)\n",
    "\n",
    "# Вероятность болезни при положительном тесте\n",
    "true_ill /(true_ill + false_ill)"
   ]
  }
 ],
 "metadata": {
  "kernelspec": {
   "display_name": "Python 3",
   "language": "python",
   "name": "python3"
  },
  "language_info": {
   "codemirror_mode": {
    "name": "ipython",
    "version": 3
   },
   "file_extension": ".py",
   "mimetype": "text/x-python",
   "name": "python",
   "nbconvert_exporter": "python",
   "pygments_lexer": "ipython3",
   "version": "3.8.2"
  }
 },
 "nbformat": 4,
 "nbformat_minor": 4
}
