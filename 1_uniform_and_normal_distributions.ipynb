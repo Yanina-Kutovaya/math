{
 "cells": [
  {
   "cell_type": "code",
   "execution_count": 1,
   "metadata": {},
   "outputs": [],
   "source": [
    "from scipy.stats import norm"
   ]
  },
  {
   "cell_type": "markdown",
   "metadata": {},
   "source": [
    "#### Задача 1\n",
    "\n",
    "О непрерывной равномерно распределённой случайной величине B известно, что её дисперсия равна 0.2. Можно ли найти правую границу величины B и её среднее значение зная, что левая граница равна 0.5? Если да, найдите их."
   ]
  },
  {
   "cell_type": "code",
   "execution_count": 2,
   "metadata": {},
   "outputs": [
    {
     "name": "stdout",
     "output_type": "stream",
     "text": [
      "Правая граница величины B:  2.049193338482967\n",
      "Среднее значение величины B: 1.2745966692414834\n"
     ]
    }
   ],
   "source": [
    "a = 0.5\n",
    "var = 0.2\n",
    "\n",
    "b = (var * 12) ** 0.5 + a\n",
    "mean = (a + b) / 2\n",
    "\n",
    "print('Правая граница величины B: ', b)\n",
    "print('Среднее значение величины B:', mean)"
   ]
  },
  {
   "cell_type": "markdown",
   "metadata": {},
   "source": [
    "#### Задача 2\n",
    "\n",
    "Коробки с шоколадом упаковываются автоматически. Их средняя масса равна 1.06 кг. Известно, что 5% коробок имеют массу, меньшую 1 кг. Найдите: а) среднее квадратическое отклонение массы коробки, б) процент коробок, имеющих массу больше 1.1 кг.\n",
    "\n",
    "Подсказка. Найдите такое значение scale, для которого значение cdf(x=1, loc=1.06, scale=scale) близко к 0.05. Точности 0.0001 будет достаточно."
   ]
  },
  {
   "cell_type": "code",
   "execution_count": 3,
   "metadata": {},
   "outputs": [
    {
     "name": "stdout",
     "output_type": "stream",
     "text": [
      "Cреднее квадратическое отклонение массы коробки = 0.03647638154295097\n",
      "13.6 процентов коробок имеет массу больше 1.1 кг\n"
     ]
    }
   ],
   "source": [
    "X_ave = 1.06 \n",
    "X1 = 1.0\n",
    "X2 = 1.1\n",
    "\n",
    "z = -1.6449  # P(Z < z) = 0.05\n",
    "sigma = (X1 - X_ave) / z\n",
    "\n",
    "# P(X > 1.1)\n",
    "percentage_over_X2 = (1 - norm.cdf(x=X2, loc=X_ave, scale=sigma)) * 100 \n",
    "\n",
    "print('Cреднее квадратическое отклонение массы коробки =', sigma)\n",
    "print(f'{round(percentage_over_X2, 1)} процентов коробок имеет массу больше 1.1 кг')"
   ]
  },
  {
   "cell_type": "markdown",
   "metadata": {},
   "source": [
    "#### Задача 3\n",
    "\n",
    "Коробка содержит 30 конфет. Известно, что масса каждой конфеты распределена равномерно в промежутке от 12 до 14 граммов. Используя центральную предельную теорему, найти вероятность, что масса всей коробки будет: а) меньше 390 граммов, б) больше 395 граммов, в) от 380 до 400 граммов.\n",
    "\n",
    "Массой самой коробки можно пренебречь."
   ]
  },
  {
   "cell_type": "code",
   "execution_count": 4,
   "metadata": {},
   "outputs": [
    {
     "name": "stdout",
     "output_type": "stream",
     "text": [
      "Вероятность, что масса всей коробки будет меньше 390 граммов = 0.5\n",
      "Вероятность, что масса всей коробки будет больше 395 граммов = 0.3085375387259869\n",
      "Вероятность, что масса всей коробки будет от 380 до 400 граммов = 0.6826894921370859\n"
     ]
    }
   ],
   "source": [
    "n = 30\n",
    "a = 12\n",
    "b = 14\n",
    "box_weight1 = 390\n",
    "box_weight2 = 395\n",
    "box_weight3_lower = 380\n",
    "box_weight3_upper = 400\n",
    "\n",
    "X_ave = (a + b) / 2\n",
    "var = (b - a)**2 / 12\n",
    "\n",
    "# Cогласно центральной предельной теореме масса всей коробки будет нормалььно распределена\n",
    "box_weight_ave = n * X_ave\n",
    "sigma = n * var\n",
    "\n",
    "less_than_390 = norm.cdf(x=box_weight1, loc=box_weight_ave, scale=sigma)\n",
    "more_than_395 = 1 - norm.cdf(x=box_weight2, loc=box_weight_ave, scale=sigma)\n",
    "\n",
    "p1 = norm.cdf(x=box_weight3_lower, loc=box_weight_ave, scale=sigma)\n",
    "p2 = norm.cdf(x=box_weight3_upper, loc=box_weight_ave, scale=sigma)\n",
    "between_380_and_400 = p2 - p1\n",
    "\n",
    "print('Вероятность, что масса всей коробки будет меньше 390 граммов =', less_than_390)\n",
    "print('Вероятность, что масса всей коробки будет больше 395 граммов =', more_than_395)\n",
    "print('Вероятность, что масса всей коробки будет от 380 до 400 граммов =', between_380_and_400)"
   ]
  }
 ],
 "metadata": {
  "kernelspec": {
   "display_name": "Python 3",
   "language": "python",
   "name": "python3"
  },
  "language_info": {
   "codemirror_mode": {
    "name": "ipython",
    "version": 3
   },
   "file_extension": ".py",
   "mimetype": "text/x-python",
   "name": "python",
   "nbconvert_exporter": "python",
   "pygments_lexer": "ipython3",
   "version": "3.8.2"
  }
 },
 "nbformat": 4,
 "nbformat_minor": 4
}
