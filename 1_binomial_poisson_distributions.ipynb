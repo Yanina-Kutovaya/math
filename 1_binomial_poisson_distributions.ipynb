{
 "cells": [
  {
   "cell_type": "code",
   "execution_count": 1,
   "metadata": {},
   "outputs": [],
   "source": [
    "import numpy as np\n",
    "from math import comb, factorial, exp\n",
    "from scipy.stats import poisson, binom"
   ]
  },
  {
   "cell_type": "markdown",
   "metadata": {},
   "source": [
    "#### Задача 1\n",
    "\n",
    "Контрольная работа состоит из пяти вопросов. На каждый вопрос приведено четыре варианта ответа, один из которых правильный.\n",
    "\n",
    "Составьте закон распределения числа правильных ответов при простом угадывании. Найдите M(X), D(X)."
   ]
  },
  {
   "cell_type": "code",
   "execution_count": 2,
   "metadata": {},
   "outputs": [
    {
     "name": "stdout",
     "output_type": "stream",
     "text": [
      "Распределение числа правильных ответов при простом угадывании: \n",
      " [(0, 0.2373046875), (1, 0.3955078125), (2, 0.263671875), (3, 0.087890625), (4, 0.0146484375), (5, 0.0009765625)]\n",
      "M(X) =  1.25\n",
      "D(X) =  0.9375\n"
     ]
    }
   ],
   "source": [
    "p = 1/4     # Вероятность правильного ответа на вопрос\n",
    "n = 5       # Число вопросов\n",
    "\n",
    "# Короткое решение:\n",
    "prob_distribution = [(xi, round(binom.pmf(xi, n, p), 10)) for xi in range(n+1)]\n",
    "print('Распределение числа правильных ответов при простом угадывании:', '\\n', prob_distribution)\n",
    "print('M(X) = ', binom.mean(n, p))\n",
    "print('D(X) = ', binom.var(n, p))"
   ]
  },
  {
   "cell_type": "code",
   "execution_count": 3,
   "metadata": {},
   "outputs": [
    {
     "name": "stdout",
     "output_type": "stream",
     "text": [
      "Распределение числа правильных ответов при простом угадывании: \n",
      " [(0, 0.2373046875), (1, 0.3955078125), (2, 0.263671875), (3, 0.087890625), (4, 0.0146484375), (5, 0.0009765625)]\n",
      "M(X) =  1.25\n",
      "D(X) =  0.9375\n"
     ]
    }
   ],
   "source": [
    "# Длинное решение:\n",
    "prob_distribution = []\n",
    "expectation = 0\n",
    "variance  = 0\n",
    "for xi in range(n + 1):\n",
    "    prob = comb(5,xi) * p**xi * (1-p)**(n-xi)\n",
    "    prob_distribution.append((xi, prob))\n",
    "    expectation += xi * prob\n",
    "\n",
    "for xi, prob in prob_distribution:\n",
    "    variance += prob * (xi - expectation)**2\n",
    "\n",
    "print('Распределение числа правильных ответов при простом угадывании:', '\\n', prob_distribution)\n",
    "print('M(X) = ', expectation)\n",
    "print('D(X) = ', variance)"
   ]
  },
  {
   "cell_type": "markdown",
   "metadata": {},
   "source": [
    "#### Задача 2\n",
    "\n",
    "Пользователь получает в среднем 10 писем со спамом на свой почтовый ящик за сутки. \n",
    "\n",
    "Найти число N, такое, что с вероятностью 0.95 пользователь получит не более N писем со спамом за текущий день."
   ]
  },
  {
   "cell_type": "code",
   "execution_count": 4,
   "metadata": {},
   "outputs": [
    {
     "name": "stdout",
     "output_type": "stream",
     "text": [
      "N = 15\n"
     ]
    }
   ],
   "source": [
    "# Короткое решение:\n",
    "print('N =', int(poisson.ppf(0.95, 10)))"
   ]
  },
  {
   "cell_type": "code",
   "execution_count": 5,
   "metadata": {},
   "outputs": [
    {
     "name": "stdout",
     "output_type": "stream",
     "text": [
      "11 0.6967761463031068\n",
      "12 0.7915564763948745\n",
      "13 0.8644644226193111\n",
      "14 0.9165415270653373\n",
      "15 0.9512595966960213\n",
      "N =  15\n"
     ]
    }
   ],
   "source": [
    "# Длинное решение:\n",
    "mu = 10\n",
    "n = 10\n",
    "prob = 0\n",
    "while prob < 0.95:\n",
    "    prob = 0\n",
    "    n += 1    \n",
    "    prob = np.array([exp(-mu) * mu**x / factorial(x) for x in range(n + 1)]).sum()\n",
    "    print(n, prob)\n",
    "print('N = ', n)"
   ]
  },
  {
   "cell_type": "markdown",
   "metadata": {},
   "source": [
    "#### Задача 3\n",
    "\n",
    "Производятся выстрелы по мишени. Вероятность попадания в мишень при одном выстреле равна 0.01. \n",
    "\n",
    "Сколько выстрелов нужно сделать чтобы быть уверенным с вероятностью 0.9, что хотя бы 6 раз будет совершено попадание?\n",
    "\n",
    "Подсказка. 1) \"Вероятность попасть k раз при n выстрелах\" - на какое распределение это похоже? \n",
    "2) А если нам нужна вероятность P(X >= k), а не P(X = k)? 3) Здесь предстоит немножко покодить."
   ]
  },
  {
   "cell_type": "code",
   "execution_count": 6,
   "metadata": {},
   "outputs": [
    {
     "name": "stdout",
     "output_type": "stream",
     "text": [
      "Число выстрелов - 926\n"
     ]
    }
   ],
   "source": [
    "# P(X >= 6) = 1 - P(X < 5) = 0.9\n",
    "# P(X < 5) = 0.1\n",
    "\n",
    "p = 0.01\n",
    "n = 600\n",
    "while binom.cdf(5, n, p) > 0.1: n += 1\n",
    "print(f'Число выстрелов - {n}')"
   ]
  }
 ],
 "metadata": {
  "kernelspec": {
   "display_name": "Python 3",
   "language": "python",
   "name": "python3"
  },
  "language_info": {
   "codemirror_mode": {
    "name": "ipython",
    "version": 3
   },
   "file_extension": ".py",
   "mimetype": "text/x-python",
   "name": "python",
   "nbconvert_exporter": "python",
   "pygments_lexer": "ipython3",
   "version": "3.8.2"
  }
 },
 "nbformat": 4,
 "nbformat_minor": 4
}
