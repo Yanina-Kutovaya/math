{
 "cells": [
  {
   "cell_type": "code",
   "execution_count": 1,
   "metadata": {},
   "outputs": [],
   "source": [
    "import numpy as np"
   ]
  },
  {
   "cell_type": "markdown",
   "metadata": {},
   "source": [
    "#### Задача 1\n",
    "\n",
    "Даны значения зарплат из выборки выпускников:"
   ]
  },
  {
   "cell_type": "code",
   "execution_count": 2,
   "metadata": {},
   "outputs": [],
   "source": [
    "salaries = 100, 80, 75, 77, 89, 33, 45, 25, 65, 17, 30, 230, 24, 57, 55, 70, 75, 65, 84, 90, 150"
   ]
  },
  {
   "cell_type": "markdown",
   "metadata": {},
   "source": [
    "Используя только встроенные питоновские функции и структуры данных (т.е. без библиотек numpy, pandas и др.) посчитать \n",
    "среднее арифметическое, \n",
    "смещённую и несмещённую оценки дисперсии, \n",
    "среднее квадратичное отклонение для данной выборки.\n",
    "\n",
    "Можно затем посчитать те же значения с использованием библиотек, чтобы проверить себя."
   ]
  },
  {
   "cell_type": "code",
   "execution_count": 3,
   "metadata": {},
   "outputs": [
    {
     "name": "stdout",
     "output_type": "stream",
     "text": [
      "среднее арифметическое = 73.14285714285714\n",
      "смещённая оценка дисперсии = 2135.074829931973\n",
      "несмещённая оценка дисперсии = 2241.8285714285716\n",
      "среднее квадратичное отклонение выборки 47.34795213553139\n"
     ]
    }
   ],
   "source": [
    "salaries_sum = 0\n",
    "for i in salaries: salaries_sum += i    \n",
    "mean_salary = salaries_sum / len(salaries)\n",
    "\n",
    "sq_sum = 0\n",
    "for i in salaries: \n",
    "    sq_sum += (i - mean_salary) ** 2\n",
    "var_biased = sq_sum / len(salaries)\n",
    "var_unbiased = sq_sum / (len(salaries) - 1)\n",
    "\n",
    "\n",
    "print('среднее арифметическое =', mean_salary)\n",
    "print('смещённая оценка дисперсии =', var_biased)\n",
    "print('несмещённая оценка дисперсии =', var_unbiased)\n",
    "print('среднее квадратичное отклонение выборки', var_unbiased ** 0.5)"
   ]
  },
  {
   "cell_type": "markdown",
   "metadata": {},
   "source": [
    "#### Задача 2\n",
    "\n",
    "Для выборки из задачи 1 найти (также без использования библиотек):\n",
    "1. медиану, первый и третий квартили, интерквартильное расстояние,\n",
    "2. выборсы в выборке (используя для этого метод как при построении \"усов\" из boxplot).\n",
    "\n",
    "Возможные неоднозначности в вычислении квантилей можно разрешать любым способом."
   ]
  },
  {
   "cell_type": "code",
   "execution_count": 4,
   "metadata": {},
   "outputs": [
    {
     "name": "stdout",
     "output_type": "stream",
     "text": [
      "медиана =  70\n",
      "первый квартиль =  45\n",
      "третий квартиль =  84\n",
      "интерквартильное расстояние =  39\n",
      "выбросы =  [230, 150]\n"
     ]
    }
   ],
   "source": [
    "a = sorted(salaries)\n",
    "n = len(a)\n",
    "\n",
    "median = a[n // 2]\n",
    "\n",
    "qrt_1 = a[int(n * 1/4)]\n",
    "qrt_3 = a[int(n * 3/4)]\n",
    "IQR = qrt_3 - qrt_1\n",
    "\n",
    "outliers = []\n",
    "for i in salaries:\n",
    "    if i < (qrt_1 - IQR) or i > (qrt_3 + IQR):\n",
    "        outliers.append(i)\n",
    "        \n",
    "print('медиана = ', median)\n",
    "print('первый квартиль = ', qrt_1)\n",
    "print('третий квартиль = ', qrt_3)\n",
    "print('интерквартильное расстояние = ', IQR)\n",
    "print('выбросы = ', outliers)"
   ]
  },
  {
   "cell_type": "markdown",
   "metadata": {},
   "source": [
    "#### Задача 3\n",
    "\n",
    "В университет на факультеты A и B поступило равное количество студентов, \n",
    "а на факультет C студентов поступило столько же, сколько на A и B вместе. \n",
    "Вероятность того, что студент факультета A сдаст первую сессию, равна 0.8. \n",
    "Для студента факультета B эта вероятность равна 0.7, а для студента факультета C - 0.9. \n",
    "Студент сдал первую сессию. Какова вероятность, что он учится: \n",
    "a) на факультете A? \n",
    "б) на факультете B? \n",
    "в) на факультете C?\n",
    "\n",
    "Замечание: да, эта задача не на тему описательных статистик, но тема важная, и её стоит иногда освежать в памяти."
   ]
  },
  {
   "cell_type": "code",
   "execution_count": 5,
   "metadata": {},
   "outputs": [
    {
     "name": "stdout",
     "output_type": "stream",
     "text": [
      "факультет A: 0.24242424242424246\n",
      "факультет B: 0.21212121212121213\n",
      "факультет C: 0.5454545454545455\n"
     ]
    }
   ],
   "source": [
    "dept_name = ['факультет A', 'факультет B', 'факультет C']\n",
    "student_distribution = np.array([0.25, 0.25, 0.5])\n",
    "passed_exams = np.array([0.8, 0.7, 0.9])\n",
    "\n",
    "for i in range(len(dept_name)):\n",
    "    print(f'{dept_name[i]}: {student_distribution[i] * passed_exams[i] / np.dot(student_distribution, passed_exams)}')"
   ]
  }
 ],
 "metadata": {
  "kernelspec": {
   "display_name": "Python 3",
   "language": "python",
   "name": "python3"
  },
  "language_info": {
   "codemirror_mode": {
    "name": "ipython",
    "version": 3
   },
   "file_extension": ".py",
   "mimetype": "text/x-python",
   "name": "python",
   "nbconvert_exporter": "python",
   "pygments_lexer": "ipython3",
   "version": "3.8.2"
  }
 },
 "nbformat": 4,
 "nbformat_minor": 4
}
