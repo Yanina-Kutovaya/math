{
 "cells": [
  {
   "cell_type": "code",
   "execution_count": 1,
   "metadata": {},
   "outputs": [],
   "source": [
    "import numpy as np\n",
    "from scipy.stats import t"
   ]
  },
  {
   "cell_type": "markdown",
   "metadata": {},
   "source": [
    "#### Задача 1\n",
    "\n",
    "Даны значения величины заработной платы заемщиков банка (salary) и значения их поведенческого кредитного скоринга (scoring):\n",
    "\n",
    "salary = [35, 45, 190, 200, 40, 70, 54, 150, 120, 110]\n",
    "scoring = [401, 574, 874, 919, 459, 739, 653, 902, 746, 832]\n",
    "\n",
    "Используя только встроенные питоновские функции и структуры данных (т.е. без библиотек numpy, pandas и др.) найдите:\n",
    "1. ковариацию (смещённую и несмещённую) этих двух величин,\n",
    "2. коэффициент корреляции Пирсона.\n",
    "\n",
    "Можно затем посчитать те же значения с использованием библиотек, чтобы проверить себя."
   ]
  },
  {
   "cell_type": "code",
   "execution_count": 2,
   "metadata": {},
   "outputs": [
    {
     "name": "stdout",
     "output_type": "stream",
     "text": [
      "Cмещённая ковариация = 9157.84, несмещённая ковариация = 10175.377777777778\n",
      "Коэффициент корреляции Пирсона = 0.8874900920739162\n"
     ]
    }
   ],
   "source": [
    "salary = [35, 45, 190, 200, 40, 70, 54, 150, 120, 110]\n",
    "scoring = [401, 574, 874, 919, 459, 739, 653, 902, 746, 832]\n",
    "\n",
    "data = list(zip(salary, scoring))\n",
    "n = len(data)\n",
    "sum_i = 0\n",
    "sum_j = 0\n",
    "for i, j in data:\n",
    "    sum_i += i\n",
    "    sum_j +=j\n",
    "mean_salary = sum_i / n\n",
    "mean_scoring = sum_j /n\n",
    "\n",
    "sum_xy = 0\n",
    "sum_xx = 0\n",
    "sum_yy = 0\n",
    "for i, j in data:\n",
    "    sum_xy += (i - mean_salary) * (j - mean_scoring)\n",
    "    sum_xx += (i - mean_salary) ** 2\n",
    "    sum_yy += (j - mean_scoring) ** 2\n",
    "r = sum_xy / (sum_xx * sum_yy) ** 0.5\n",
    "\n",
    "print(f'Cмещённая ковариация = {sum_xy / n}, несмещённая ковариация = {sum_xy / (n - 1)}')\n",
    "print(f'Коэффициент корреляции Пирсона = {r}')"
   ]
  },
  {
   "cell_type": "markdown",
   "metadata": {},
   "source": [
    "#### Задача 2\n",
    "\n",
    "Проведите тест на значимость коэффициента корреляции Пирсона, найденного в предыдущей задаче. Что для этого нужно знать:\n",
    "* Нулевая гипотеза: реальный коэффициент корреляции равен 0. Альтернативная гипотеза двухсторонняя.\n",
    "* Статистика: t = r * sqrt(n - 2) / sqrt(1 - r ** 2), где r - коэффициент корреляции Пирсона, посчитанный по выборке.\n",
    "* В предположении верности нулевой гипотезы эта статистика имеет распределение Стьюдента с параметром df = n - 2."
   ]
  },
  {
   "cell_type": "code",
   "execution_count": 3,
   "metadata": {},
   "outputs": [
    {
     "name": "stdout",
     "output_type": "stream",
     "text": [
      "Вероятность отклонить нулевую гипотезу, когда на самом деле она верна = 0.0006107546587257318\n"
     ]
    }
   ],
   "source": [
    "t_stat = r * (n - 2) ** 0.5 / (1 - r ** 2) ** 0.5\n",
    "level_of_significance = (1 - t.cdf(t_stat, n-2)) * 2\n",
    "\n",
    "print(f'Вероятность отклонить нулевую гипотезу, когда на самом деле она верна = {level_of_significance}')"
   ]
  },
  {
   "cell_type": "markdown",
   "metadata": {},
   "source": [
    "### Задача 3\n",
    "\n",
    "Измерены значения IQ выборки студентов, обучающихся в местных технических вузах:\n",
    "\n",
    "131, 125, 115, 122, 131, 115, 107, 99, 125, 111\n",
    "\n",
    "Известно, что в генеральной совокупности IQ распределен нормально. Найдите доверительный интервал для математического ожидания с надежностью 0.95."
   ]
  },
  {
   "cell_type": "code",
   "execution_count": 4,
   "metadata": {},
   "outputs": [
    {
     "name": "stdout",
     "output_type": "stream",
     "text": [
      "Доверительный интервал для математического ожидания = [110.55608365158724, 125.64391634841274]\n"
     ]
    }
   ],
   "source": [
    "sample = np.array([131, 125, 115, 122, 131, 115, 107, 99, 125, 111])\n",
    "n = len(sample)\n",
    "\n",
    "alpha = (1 - 0.95) / 2\n",
    "t1 = t.ppf(alpha, n - 1)\n",
    "t2 = t.ppf(1 - alpha, n - 1)\n",
    "\n",
    "standard_error = sample.std(ddof=1) / n**0.5\n",
    "confidence_interval = [sample.mean() + t1 * standard_error, sample.mean() + t2 * standard_error]\n",
    "\n",
    "print('Доверительный интервал для математического ожидания =', confidence_interval)"
   ]
  }
 ],
 "metadata": {
  "kernelspec": {
   "display_name": "Python 3",
   "language": "python",
   "name": "python3"
  },
  "language_info": {
   "codemirror_mode": {
    "name": "ipython",
    "version": 3
   },
   "file_extension": ".py",
   "mimetype": "text/x-python",
   "name": "python",
   "nbconvert_exporter": "python",
   "pygments_lexer": "ipython3",
   "version": "3.8.2"
  }
 },
 "nbformat": 4,
 "nbformat_minor": 4
}
